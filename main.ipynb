{
 "cells": [
  {
   "cell_type": "code",
   "execution_count": 52,
   "metadata": {},
   "outputs": [],
   "source": [
    "# Imports\n",
    "import os\n",
    "import yaml\n",
    "import glob\n",
    "import random\n",
    "import numpy as np\n",
    "import matplotlib.pyplot as plt\n",
    "\n",
    "from tensorflow import keras\n",
    "from tensorflow.keras.layers import Conv2D, MaxPooling2D, Dense, Flatten, Dropout\n",
    "from PIL import Image"
   ]
  },
  {
   "cell_type": "code",
   "execution_count": 2,
   "metadata": {},
   "outputs": [],
   "source": [
    "# Settings\n",
    "total_images = 5000\n",
    "training_split = 0.8\n",
    "validation_split = 0.1 # Taken from training split\n",
    "image_size = (64, 64)\n",
    "highest_point = 116"
   ]
  },
  {
   "cell_type": "code",
   "execution_count": 3,
   "metadata": {},
   "outputs": [],
   "source": [
    "# Collect Images\n",
    "dataset_path = os.path.join(os.getcwd(), 'dataset')\n",
    "image_paths = random.sample(glob.glob(os.path.join(dataset_path, '*.jpg')), total_images)"
   ]
  },
  {
   "cell_type": "code",
   "execution_count": 4,
   "metadata": {},
   "outputs": [],
   "source": [
    "\"\"\"\n",
    "Data Syntax\n",
    "{\n",
    "\tpath: <path to image>,\n",
    "\tage: <age> (First number in file name)\n",
    "\tgender: <gender> (0: Male, 1: Female; Apparent) (Secondary number in file name)\n",
    "}\n",
    "\"\"\"\n",
    "data = []\n",
    "\n",
    "for image_path in image_paths:\n",
    "\timage_name = os.path.basename(image_path)\n",
    "\tage = int(image_name.split('_')[0])\n",
    "\tgender = int(image_name.split('_')[1])\n",
    "\tdata.append({\n",
    "\t\t'path': image_path,\n",
    "\t\t'age': age,\n",
    "\t\t'gender': gender\n",
    "\t})"
   ]
  },
  {
   "cell_type": "code",
   "execution_count": 5,
   "metadata": {},
   "outputs": [],
   "source": [
    "# Data Processing\n",
    "x = []\n",
    "y = []\n",
    "\n",
    "for data_point in data:\n",
    "\timg = Image.open(data_point['path']).resize(image_size)\n",
    "\tx.append(np.array(img))\n",
    "\n",
    "\tlabel = np.zeros(highest_point)\n",
    "\tlabel[data_point['age']] = 1\n",
    "\ty.append(label)\n",
    "\t"
   ]
  },
  {
   "cell_type": "code",
   "execution_count": 6,
   "metadata": {},
   "outputs": [],
   "source": [
    "# Data Spliting\n",
    "training_data_x = np.array(x[:round(len(data) * training_split)])\n",
    "testing_data_x = np.array(x[round(len(data) * training_split):])\n",
    "\n",
    "training_data_y = np.array(y[:round(len(data) * training_split)])\n",
    "testing_data_y = np.array(y[round(len(data) * training_split):])"
   ]
  },
  {
   "cell_type": "code",
   "execution_count": 7,
   "metadata": {},
   "outputs": [],
   "source": [
    "# Model\n",
    "\n",
    "model = keras.Sequential()\n",
    "\n",
    "model.add(Conv2D(64, kernel_size = (5, 5), activation = 'relu', input_shape = (image_size[0], image_size[1], 3)))\n",
    "model.add(Flatten())\n",
    "model.add(Dense(highest_point, activation='softmax'))"
   ]
  },
  {
   "cell_type": "code",
   "execution_count": 8,
   "metadata": {},
   "outputs": [
    {
     "name": "stdout",
     "output_type": "stream",
     "text": [
      "Model: \"sequential\"\n",
      "_________________________________________________________________\n",
      "Layer (type)                 Output Shape              Param #   \n",
      "=================================================================\n",
      "conv2d (Conv2D)              (None, 60, 60, 64)        4864      \n",
      "_________________________________________________________________\n",
      "flatten (Flatten)            (None, 230400)            0         \n",
      "_________________________________________________________________\n",
      "dense (Dense)                (None, 116)               26726516  \n",
      "=================================================================\n",
      "Total params: 26,731,380\n",
      "Trainable params: 26,731,380\n",
      "Non-trainable params: 0\n",
      "_________________________________________________________________\n"
     ]
    }
   ],
   "source": [
    "# Compile Model\n",
    "model.compile(optimizer='adam', loss='binary_crossentropy', metrics=['accuracy'])\n",
    "model.summary()"
   ]
  },
  {
   "cell_type": "code",
   "execution_count": 26,
   "metadata": {},
   "outputs": [
    {
     "name": "stdout",
     "output_type": "stream",
     "text": [
      "Epoch 1/5\n",
      "63/63 [==============================] - 10s 166ms/step - loss: 0.0130 - accuracy: 0.8487\n",
      "Epoch 2/5\n",
      "63/63 [==============================] - 10s 165ms/step - loss: 0.0080 - accuracy: 0.9170\n",
      "Epoch 3/5\n",
      "63/63 [==============================] - 10s 159ms/step - loss: 0.0053 - accuracy: 0.9500\n",
      "Epoch 4/5\n",
      "63/63 [==============================] - 11s 167ms/step - loss: 0.0045 - accuracy: 0.9685\n",
      "Epoch 5/5\n",
      "63/63 [==============================] - 10s 163ms/step - loss: 0.0031 - accuracy: 0.9772\n"
     ]
    },
    {
     "data": {
      "text/plain": [
       "<tensorflow.python.keras.callbacks.History at 0x23208c71948>"
      ]
     },
     "execution_count": 26,
     "metadata": {},
     "output_type": "execute_result"
    }
   ],
   "source": [
    "# Train Model\n",
    "model.fit(training_data_x, training_data_y, epochs=5, batch_size=64)"
   ]
  },
  {
   "cell_type": "code",
   "execution_count": 50,
   "metadata": {},
   "outputs": [
    {
     "name": "stdout",
     "output_type": "stream",
     "text": [
      "Prediction 38\n",
      "age 40\n",
      "apprent gender female\n",
      "image size (64, 64)\n"
     ]
    },
    {
     "data": {
      "image/png": "[encoded data removed]",
      "text/plain": [
       "<Figure size 432x288 with 1 Axes>"
      ]
     },
     "metadata": {
      "needs_background": "light"
     },
     "output_type": "display_data"
    }
   ],
   "source": [
    "# Test Model\n",
    "test_d = random.randint(0, len(testing_data_x) - 1)\n",
    "print('prediction', np.argmax(model.predict(testing_data_x[test_d].reshape(1, image_size[0], image_size[1], 3))[0]))\n",
    "\n",
    "a = data[test_d]\n",
    "img = Image.open(a['path']).resize((64, 64))\n",
    "plt.imshow(img)\n",
    "print(f'age {a[\"age\"]}')\n",
    "print(f'apprent gender {\"male\" if a[\"gender\"] == 0 else \"female\"}')\n",
    "print(f'image size {img.size}')"
   ]
  },
  {
   "cell_type": "code",
   "execution_count": 11,
   "metadata": {},
   "outputs": [],
   "source": [
    "a = random.choice(data)\n"
   ]
  }
 ],
 "metadata": {
  "interpreter": {
   "hash": "f5058fd16b4495a513f1dc0d80199d0a0fbb66ed6b0c7db8049685ade23f88dc"
  },
  "kernelspec": {
   "display_name": "Python 3.7.6 64-bit ('ml': conda)",
   "name": "python3"
  },
  "language_info": {
   "codemirror_mode": {
    "name": "ipython",
    "version": 3
   },
   "file_extension": ".py",
   "mimetype": "text/x-python",
   "name": "python",
   "nbconvert_exporter": "python",
   "pygments_lexer": "ipython3",
   "version": "3.7.6"
  },
  "orig_nbformat": 4
 },
 "nbformat": 4,
 "nbformat_minor": 2
}
